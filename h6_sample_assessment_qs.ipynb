{
 "cells": [
  {
   "cell_type": "markdown",
   "metadata": {},
   "source": [
    "# HSMA 6 Certification Assessment - Sample Questions"
   ]
  },
  {
   "cell_type": "markdown",
   "metadata": {},
   "source": [
    "### SECTION A - Core Python\n",
    "\n",
    "In the real exam, there will be several questions in this section - however, only two are provided in this sample test. \n",
    "\n",
    "In the real exam, you should complete **all** of the tasks in this section. These tasks may be worth different marks to each other.\n",
    "\n",
    "---"
   ]
  },
  {
   "cell_type": "markdown",
   "metadata": {},
   "source": [
    "**Task A1** Write a loop that goes through the following list of names and\n",
    "- prints out the name\n",
    "- prints out the message \"I think his age is 'x'\", where x is replaced by a random number between 1 and 100. \n",
    "- prints out the message \"I think his favourite colour is 'y'\", where y is replaced by a colour from the choice of purple, green, red, blue, or yellow. \n",
    "\n",
    "*(5 marks)* "
   ]
  },
  {
   "cell_type": "code",
   "execution_count": null,
   "metadata": {},
   "outputs": [],
   "source": [
    "import random\n",
    "\n",
    "name_list = [\"Rick Astley\", \"Kermit Dafrog\", \"Kevin McCallister\", \"Billy Peltzer\"]\n",
    "\n",
    "## YOUR CODE HERE"
   ]
  },
  {
   "cell_type": "markdown",
   "metadata": {},
   "source": [
    "**Task A2** You have been provided with a list of dictionaries. Each dictionary in the list contains information about a particular musician. Write code that does the following :\n",
    "\n",
    "- The date of birth in the dictionary relating to John Bongiovi is incorrect. Replace it with the correct date of birth - March 2, 1962.\n",
    "- Completely remove the key-value pair 'favourite_ice_cream': 'Rocky Road'\n",
    "- Add an extra key-value pair to Janice's Dictionary. The key should be 'instruments' and the values should be a **list**, containing the strings *Guitar*, *Tambourine*, *Trumpet*, and *Trombone*\n",
    "\n",
    "**Use Python commands to update the values - do not change lines 3 to 17!**\n",
    "\n",
    "\n",
    "Finally, turn the list of dictionaries into a Pandas dataframe. \n",
    "Your final dataframe should have the columns 'name', 'band', 'date_of_birth', 'children', 'instruments'. \n",
    "\n",
    "*(15 marks)*"
   ]
  },
  {
   "cell_type": "code",
   "execution_count": null,
   "metadata": {},
   "outputs": [],
   "source": [
    "import pandas as pd\n",
    "\n",
    "singer_dicts = [{\n",
    "    'name': 'John Francis Bongiovi Jr.',\n",
    "    'band': 'Bon Jovi',\n",
    "    'date_of_birth': 'April 2, 1963',\n",
    "    'children': 4,\n",
    "    'favourite_ice_cream': 'Rocky Road',\n",
    "    'instruments': ['Vocals', 'Guitar']\n",
    "},\n",
    "{\n",
    "    'name': 'Janice',\n",
    "    'band': 'Electric Mayhem',\n",
    "    'date_of_birth': 'January 1, 1975',\n",
    "    'children': 0\n",
    "}\n",
    "]\n",
    "\n",
    "## YOUR CODE HERE"
   ]
  },
  {
   "cell_type": "markdown",
   "metadata": {},
   "source": [
    "---"
   ]
  },
  {
   "cell_type": "markdown",
   "metadata": {},
   "source": [
    "## Part 2"
   ]
  },
  {
   "cell_type": "markdown",
   "metadata": {},
   "source": [
    "In the real exam, there will be roughly one question per module. \n",
    "\n",
    "You will be expected to select just **TWO** questions to answer in total.  \n",
    "\n",
    "If you answer more than two, it won't help, as only two will be marked! \n",
    "\n",
    "All of the tasks in this part will be worth identical marks - i.e. just choose the modules or questions you are most comfortable with as there's no benefit to choosing one question in this section over another."
   ]
  },
  {
   "cell_type": "markdown",
   "metadata": {},
   "source": [
    "---"
   ]
  },
  {
   "cell_type": "markdown",
   "metadata": {},
   "source": [
    "### Sample Question - Machine Learning"
   ]
  },
  {
   "cell_type": "markdown",
   "metadata": {},
   "source": [
    "**Task B1** The code cell below imports the datasets and required libraries for a logistic regression. The split into training and testing data has been done previously.\n",
    "\n",
    "From the four numeric columns of penguin measurements available, you are trying to predict whether penguins are 'Gentoo' penguins, or any other species of penguin. \n",
    "\n",
    "\n",
    "The person who wrote this code has started writing a function to standardise the data, but they have not finished it. \n",
    "\n",
    "- Complete this function. Several types of scaler have been imported - StandardScaler, MinMaxScaler, and MaxAbsScaler. Make sure you choose the **most appropriate scaler** given that you are using Logistic Regression. \n",
    "- Apply this function to the dataset\n",
    "- Train the machine learning model\n",
    "- Get predictions for the test set\n",
    "- Use the classification_report function to get an idea of model performance on the test set\n",
    "\n",
    "\n",
    "\n"
   ]
  },
  {
   "cell_type": "code",
   "execution_count": null,
   "metadata": {},
   "outputs": [],
   "source": [
    "import numpy as np\n",
    "import pandas as pd\n",
    "from sklearn.linear_model import LogisticRegression\n",
    "from sklearn.preprocessing import StandardScaler, MinMaxScaler, MaxAbsScaler\n",
    "from sklearn.metrics import classification_report\n",
    "\n",
    "X_train = pd.read_csv(\"data/penguins_x_train.csv\")\n",
    "X_test = pd.read_csv(\"data/penguins_x_test.csv\")\n",
    "y_train = pd.read_csv(\"data/penguins_y_train.csv\")['is_gentoo'].to_list()\n",
    "y_test = pd.read_csv(\"data/penguins_y_test.csv\")['is_gentoo'].to_list()\n",
    "\n",
    "logistic_regression_model = LogisticRegression()\n",
    "\n",
    "def prepare_data(# YOUR CODE HERE):\n",
    "\n",
    "    # Initialise a new scaling object for normalising input data\n",
    "    scaler_object = # YOUR CODE HERE\n",
    "\n",
    "    # Apply the scaler to the training and test sets using the\n",
    "    # .fit_transform() method of your scaler\n",
    "    standardised_training_data = # YOUR CODE HERE\n",
    "    standardised_testing_data = # YOUR CODE HERE\n",
    "\n",
    "    # Return the training and the testing data\n",
    "    return standardised_training_data, standardised_testing_data\n",
    "\n",
    "# Apply your prepare_data function to the appropriate datasets\n",
    "\n",
    "# Fit your logistic regression model\n",
    "\n",
    "# Predict values for the test set\n",
    "\n",
    "# Use the classification_report function to return the key model metrics\n",
    "# from the test dataset\n"
   ]
  },
  {
   "cell_type": "markdown",
   "metadata": {},
   "source": [
    "### Sample Question - Streamlit"
   ]
  },
  {
   "cell_type": "markdown",
   "metadata": {},
   "source": [
    "**Task B2**\n",
    "\n",
    "*TIP - You may wish to write the app in a separate .py file so you can test it and ensure it runs correctly. Make sure you then paste your code into the code cell below when you are done.*\n",
    "\n",
    "Your task is to write a Streamlit app that will display information about Christmas Number Ones. \n",
    "\n",
    "You have been provided with a function that takes a year as input and returns\n",
    "- a dictionary containing details of the Christmas number 1 in that year\n",
    "- or the string \"No Data\" if no data is available for that year\n",
    "\n",
    "---\n",
    "\n",
    "Add a title to your app.\n",
    "\n",
    "Add a **sidebar** containing a numeric input for a user to enter their year of birth. \n",
    "- Add an appropriate label to the input so the user knows what to enter. \n",
    "- Set the default value to 1980\n",
    "\n",
    "**If Data Exists for The Year That's Entered**\n",
    "\n",
    "Display a *success* box in the main part of the app telling the user that data exists.\n",
    "\n",
    "Below the success box, it should then:\n",
    "- Display a message that gives the user the title and artist\n",
    "- Display a **metric card** showing the number of weeks it was at number 1 for and an appropriate label\n",
    "- The video for the song\n",
    "\n",
    "**If Data Doesn't Exist for The Year That's Entered**\n",
    "\n",
    "Display a *warning* box telling the user to try another year. \n"
   ]
  },
  {
   "cell_type": "code",
   "execution_count": 8,
   "metadata": {},
   "outputs": [
    {
     "data": {
      "text/plain": [
       "{'title': 'Here in My Heart',\n",
       " 'primary_artist': 'Al Martino',\n",
       " 'weeks_at_number_one': 9,\n",
       " 'video': 'https://www.youtube.com/watch?v=cMD-k0C1AM8'}"
      ]
     },
     "execution_count": 8,
     "metadata": {},
     "output_type": "execute_result"
    }
   ],
   "source": [
    "import streamlit as st\n",
    "import pandas as pd\n",
    "\n",
    "xmas_number_ones = pd.read_csv(\"data/xmas_number_ones.csv\")\n",
    "\n",
    "def get_number_one(year):\n",
    "    number_1_row = pd.DataFrame(xmas_number_ones[xmas_number_ones[\"year\"] == year])\n",
    "\n",
    "    if len(number_1_row) == 0:\n",
    "        return \"No Data\"\n",
    "    else:\n",
    "        return {\n",
    "            'title': number_1_row['title'].values[0],\n",
    "            'primary_artist': number_1_row['primary_artist'].values[0],\n",
    "            'weeks_at_number_one': number_1_row['weeks_at_number_1'].values[0],\n",
    "            'video': number_1_row['video'].values[0]\n",
    "        }\n",
    "\n",
    "## YOUR CODE HERE"
   ]
  }
 ],
 "metadata": {
  "kernelspec": {
   "display_name": "hsma_webdev",
   "language": "python",
   "name": "python3"
  },
  "language_info": {
   "codemirror_mode": {
    "name": "ipython",
    "version": 3
   },
   "file_extension": ".py",
   "mimetype": "text/x-python",
   "name": "python",
   "nbconvert_exporter": "python",
   "pygments_lexer": "ipython3",
   "version": "3.11.9"
  }
 },
 "nbformat": 4,
 "nbformat_minor": 2
}
