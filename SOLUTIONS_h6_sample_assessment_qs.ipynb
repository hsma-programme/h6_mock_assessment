{
 "cells": [
  {
   "cell_type": "markdown",
   "metadata": {},
   "source": [
    "# HSMA 6 Certification Assessment - Sample Questions"
   ]
  },
  {
   "cell_type": "markdown",
   "metadata": {},
   "source": [
    "### SECTION A - Core Python\n",
    "\n",
    "In the real exam, there will be several questions in this section - however, only tone is provided in this sample test. \n",
    "\n",
    "In the real exam, you should complete **all** of the tasks in this section. These tasks may be worth different marks to each other.\n",
    "\n",
    "---"
   ]
  },
  {
   "cell_type": "markdown",
   "metadata": {},
   "source": [
    "**Task A1** Write a loop that goes through the following list of names and\n",
    "- prints out the name\n",
    "- prints out the message \"I think his age is 'x'\", where x is replaced by a random number between 1 and 100. \n",
    "- prints out the message \"I think his favourite colour is 'y'\", where y is replaced by a colour from the choice of purple, green, red, blue, or yellow. \n",
    "\n",
    "*(5 marks)* "
   ]
  },
  {
   "cell_type": "code",
   "execution_count": 26,
   "metadata": {},
   "outputs": [
    {
     "name": "stdout",
     "output_type": "stream",
     "text": [
      "Rick Astley\n",
      "I think his age is 43\n",
      "I think his favourite colour is red\n",
      "Kermit Dafrog\n",
      "I think his age is 50\n",
      "I think his favourite colour is purple\n",
      "Kevin McCallister\n",
      "I think his age is 45\n",
      "I think his favourite colour is purple\n",
      "Billy Peltzer\n",
      "I think his age is 89\n",
      "I think his favourite colour is purple\n"
     ]
    }
   ],
   "source": [
    "import random\n",
    "\n",
    "name_list = [\"Rick Astley\", \"Kermit Dafrog\", \"Kevin McCallister\", \"Billy Peltzer\"]\n",
    "\n",
    "for name in name_list:\n",
    "\n",
    "    random_age = random.randint(1,100)\n",
    "    random_colour = random.choice(['purple', 'green', 'red', 'blue', 'yellow'])\n",
    "\n",
    "    print(name)\n",
    "    print(f\"I think his age is {random_age}\")\n",
    "    print(f\"I think his favourite colour is {random_colour}\")"
   ]
  },
  {
   "cell_type": "markdown",
   "metadata": {},
   "source": [
    "**Task A2** You have been provided with a list of dictionaries. Each dictionary in the list contains information about a particular musician. \n",
    "\n",
    "- The date of birth in the dictionary relating to John Bongiovi is incorrect. Replace it with the correct date of birth - March 2, 1962.\n",
    "- Completely remove the key-value pair 'favourite_ice_cream': 'Rocky Road'\n",
    "- Add an extra key-value pair to Janice's Dictionary. The key should be 'instruments' and the values should be a **list**, containing the strings *Guitar*, *Tambourine*, *Trumpet*, and *Trombone*\n",
    "\n",
    "**Use Python commands to update the values - do not change lines 3 to 17!**\n",
    "\n",
    "\n",
    "Finally, turn the list of dictionaries into a Pandas dataframe. \n",
    "Your final dataframe should have the columns 'name', 'band', 'date_of_birth', 'children', 'instruments'. \n",
    "\n",
    "*(15 marks)*"
   ]
  },
  {
   "cell_type": "code",
   "execution_count": 27,
   "metadata": {},
   "outputs": [
    {
     "data": {
      "text/html": [
       "<div>\n",
       "<style scoped>\n",
       "    .dataframe tbody tr th:only-of-type {\n",
       "        vertical-align: middle;\n",
       "    }\n",
       "\n",
       "    .dataframe tbody tr th {\n",
       "        vertical-align: top;\n",
       "    }\n",
       "\n",
       "    .dataframe thead th {\n",
       "        text-align: right;\n",
       "    }\n",
       "</style>\n",
       "<table border=\"1\" class=\"dataframe\">\n",
       "  <thead>\n",
       "    <tr style=\"text-align: right;\">\n",
       "      <th></th>\n",
       "      <th>name</th>\n",
       "      <th>band</th>\n",
       "      <th>date_of_birth</th>\n",
       "      <th>children</th>\n",
       "      <th>instruments</th>\n",
       "    </tr>\n",
       "  </thead>\n",
       "  <tbody>\n",
       "    <tr>\n",
       "      <th>0</th>\n",
       "      <td>John Francis Bongiovi Jr.</td>\n",
       "      <td>Bon Jovi</td>\n",
       "      <td>March 2, 1962</td>\n",
       "      <td>4</td>\n",
       "      <td>[Vocals, Guitar]</td>\n",
       "    </tr>\n",
       "    <tr>\n",
       "      <th>1</th>\n",
       "      <td>Janice</td>\n",
       "      <td>Electric Mayhem</td>\n",
       "      <td>January 1, 1975</td>\n",
       "      <td>0</td>\n",
       "      <td>[Guitar, Tambourine, Trumpet, Trombone]</td>\n",
       "    </tr>\n",
       "  </tbody>\n",
       "</table>\n",
       "</div>"
      ],
      "text/plain": [
       "                        name             band    date_of_birth  children  \\\n",
       "0  John Francis Bongiovi Jr.         Bon Jovi    March 2, 1962         4   \n",
       "1                     Janice  Electric Mayhem  January 1, 1975         0   \n",
       "\n",
       "                               instruments  \n",
       "0                         [Vocals, Guitar]  \n",
       "1  [Guitar, Tambourine, Trumpet, Trombone]  "
      ]
     },
     "execution_count": 27,
     "metadata": {},
     "output_type": "execute_result"
    }
   ],
   "source": [
    "import pandas as pd\n",
    "\n",
    "singer_dicts = [{\n",
    "    'name': 'John Francis Bongiovi Jr.',\n",
    "    'band': 'Bon Jovi',\n",
    "    'date_of_birth': 'April 2, 1963',\n",
    "    'children': 4,\n",
    "    'favourite_ice_cream': 'Rocky Road',\n",
    "    'instruments': ['Vocals', 'Guitar']\n",
    "},\n",
    "{\n",
    "    'name': 'Janice',\n",
    "    'band': 'Electric Mayhem',\n",
    "    'date_of_birth': 'January 1, 1975',\n",
    "    'children': 0\n",
    "}\n",
    "]\n",
    "\n",
    "singer_dicts[0]['date_of_birth'] = \"March 2, 1962\"\n",
    "\n",
    "del singer_dicts[0]['favourite_ice_cream']\n",
    "\n",
    "singer_dicts[1]['instruments'] = [\"Guitar\", \"Tambourine\", \"Trumpet\", \"Trombone\"]\n",
    "\n",
    "pd.DataFrame(singer_dicts)"
   ]
  },
  {
   "cell_type": "markdown",
   "metadata": {},
   "source": [
    "---"
   ]
  },
  {
   "cell_type": "markdown",
   "metadata": {},
   "source": [
    "## Part 2"
   ]
  },
  {
   "cell_type": "markdown",
   "metadata": {},
   "source": [
    "In the real exam, there will be roughly one question per module. \n",
    "\n",
    "You will be expected to select just **TWO** of those sections to answer.  \n",
    "\n",
    "If you answer more than two, it won't help, as only two will be marked! \n",
    "\n",
    "All of the tasks in this part will be worth identical marks - i.e. just choose the modules or questions you are most comfortable with as there's no benefit to choosing one question in this section over another."
   ]
  },
  {
   "cell_type": "markdown",
   "metadata": {},
   "source": [
    "---"
   ]
  },
  {
   "cell_type": "markdown",
   "metadata": {},
   "source": [
    "### Sample Question - Machine Learning"
   ]
  },
  {
   "cell_type": "markdown",
   "metadata": {},
   "source": [
    "**Task B1** The code cell below imports the datasets and required libraries for a logistic regression. The split into training and testing data has been done previously.\n",
    "\n",
    "From the four numeric columns of penguin measurements available, you are trying to predict whether penguins are 'Gentoo' penguins, or any other species of penguin. \n",
    "\n",
    "\n",
    "The person who wrote this code has started writing a function to standardise the data, but they have not finished it. \n",
    "\n",
    "- Complete this function. Several types of scaler have been imported - StandardScaler, MinMaxScaler, and MaxAbsScaler. Make sure you choose the **most appropriate scaler** given that you are using Logistic Regression. \n",
    "- Apply this function to the dataset\n",
    "- Train the machine learning model\n",
    "- Get predictions for the test set\n",
    "- Use the classification_report function to get an idea of model performance on the test set\n",
    "\n",
    "\n",
    "\n"
   ]
  },
  {
   "cell_type": "code",
   "execution_count": null,
   "metadata": {},
   "outputs": [
    {
     "name": "stdout",
     "output_type": "stream",
     "text": [
      "              precision    recall  f1-score   support\n",
      "\n",
      "           0       0.88      0.94      0.91        49\n",
      "           1       0.85      0.74      0.79        23\n",
      "\n",
      "    accuracy                           0.88        72\n",
      "   macro avg       0.87      0.84      0.85        72\n",
      "weighted avg       0.87      0.88      0.87        72\n",
      "\n"
     ]
    }
   ],
   "source": [
    "import numpy as np\n",
    "import pandas as pd\n",
    "from sklearn.linear_model import LogisticRegression\n",
    "from sklearn.preprocessing import StandardScaler, MinMaxScaler, MaxAbsScaler\n",
    "from sklearn.metrics import classification_report\n",
    "\n",
    "X_train = pd.read_csv(\"data/penguins_x_train.csv\")\n",
    "X_test = pd.read_csv(\"data/penguins_x_test.csv\")\n",
    "y_train = pd.read_csv(\"data/penguins_y_train.csv\")['is_gentoo'].to_list()\n",
    "y_test = pd.read_csv(\"data/penguins_y_test.csv\")['is_gentoo'].to_list()\n",
    "\n",
    "logistic_regression_model = LogisticRegression()\n",
    "\n",
    "def prepare_data(X_train, X_test):\n",
    "\n",
    "    # Initialise a new scaling object for normalising input data\n",
    "    scaler_object = StandardScaler()\n",
    "\n",
    "    # Apply the scaler to the training and test sets using the\n",
    "    # .fit_transform() method of your scaler\n",
    "    standardised_training_data = scaler_object.fit_transform(X_train)\n",
    "    standardised_testing_data = scaler_object.fit_transform(X_test)\n",
    "\n",
    "    # Return the training and the testing data\n",
    "    return standardised_training_data, standardised_testing_data\n",
    "\n",
    "# Apply your prepare_data function to the appropriate datasets\n",
    "X_train_std, X_test_std = prepare_data(X_train, X_test)\n",
    "\n",
    "# Fit your logistic regression model\n",
    "logistic_regression_model.fit(X_train_std,y_train)\n",
    "\n",
    "# Predict values for the test set\n",
    "y_pred_train = logistic_regression_model.predict(X_train_std)\n",
    "y_pred_test = logistic_regression_model.predict(X_test_std)\n",
    "\n",
    "# Use the classification_report function to return the key model metrics\n",
    "# from the test dataset\n",
    "print(classification_report(y_test, y_pred_test))\n"
   ]
  },
  {
   "cell_type": "markdown",
   "metadata": {},
   "source": [
    "### Sample Question - Streamlit"
   ]
  },
  {
   "cell_type": "markdown",
   "metadata": {},
   "source": [
    "**Task B2**\n",
    "\n",
    "*HINT - You may wish to write the app in a separate .py file so you can test it and ensure it runs correctly. Make sure you then paste your code into the code cell below when you are done.*\n",
    "\n",
    "Your task is to write a Streamlit app that will display information about Chritmas Number Ones. \n",
    "\n",
    "You have been provided with a function that takes a year as input and returns\n",
    "- a dictionary containing details of the Christmas number 1 in that year\n",
    "- or the string \"No Data\" if no data is available for that year\n",
    "\n",
    "---\n",
    "\n",
    "Add a title to your app.\n",
    "\n",
    "Add a **sidebar** containing a numeric input for a user to enter their year of birth. \n",
    "- Add an appropriate label to the input so the user knows what to enter. \n",
    "- Set the default value to 1980\n",
    "\n",
    "**If Data Exists for The Year That's Entered**\n",
    "\n",
    "Display a *success* box in the main part of the app telling the user that data exists.\n",
    "\n",
    "Below the success box, it should then:\n",
    "- Display a message that gives the user the title and artist\n",
    "- Display a **metric card** showing the number of weeks it was at number 1 for and an appropriate label\n",
    "- The video for the song\n",
    "\n",
    "**If Data Doesn't Exist for The Year That's Entered**\n",
    "\n",
    "Display a *warning* box telling the user to try another year. \n"
   ]
  },
  {
   "cell_type": "code",
   "execution_count": null,
   "metadata": {},
   "outputs": [
    {
     "ename": "ModuleNotFoundError",
     "evalue": "No module named 'streamlit'",
     "output_type": "error",
     "traceback": [
      "\u001b[1;31m---------------------------------------------------------------------------\u001b[0m",
      "\u001b[1;31mModuleNotFoundError\u001b[0m                       Traceback (most recent call last)",
      "Cell \u001b[1;32mIn[24], line 1\u001b[0m\n\u001b[1;32m----> 1\u001b[0m \u001b[38;5;28;01mimport\u001b[39;00m \u001b[38;5;21;01mstreamlit\u001b[39;00m \u001b[38;5;28;01mas\u001b[39;00m \u001b[38;5;21;01mst\u001b[39;00m\n\u001b[0;32m      2\u001b[0m \u001b[38;5;28;01mimport\u001b[39;00m \u001b[38;5;21;01mpandas\u001b[39;00m \u001b[38;5;28;01mas\u001b[39;00m \u001b[38;5;21;01mpd\u001b[39;00m\n\u001b[0;32m      4\u001b[0m xmas_number_ones \u001b[38;5;241m=\u001b[39m pd\u001b[38;5;241m.\u001b[39mread_csv(\u001b[38;5;124m\"\u001b[39m\u001b[38;5;124mxmas_number_ones.csv\u001b[39m\u001b[38;5;124m\"\u001b[39m)\n",
      "\u001b[1;31mModuleNotFoundError\u001b[0m: No module named 'streamlit'"
     ]
    }
   ],
   "source": [
    "import streamlit as st\n",
    "import pandas as pd\n",
    "\n",
    "xmas_number_ones = pd.read_csv(\"data/xmas_number_ones.csv\")\n",
    "\n",
    "def get_number_one(year):\n",
    "    number_1_row = pd.DataFrame(xmas_number_ones[xmas_number_ones[\"year\"] == year])\n",
    "\n",
    "    if len(number_1_row) == 0:\n",
    "        return \"No Data\"\n",
    "    else:\n",
    "        return {\n",
    "            'title': number_1_row['title'].values[0],\n",
    "            'primary_artist': number_1_row['primary_artist'].values[0],\n",
    "            'weeks_at_number_one': number_1_row['weeks_at_number_1'].values[0],\n",
    "            'video': number_1_row['video'].values[0]\n",
    "        }\n",
    "\n",
    "st.title(\"Christmas Number One Searcher\")\n",
    "\n",
    "with st.sidebar:\n",
    "    user_year_of_birth = st.number_input(\"Enter your year of birth\",\n",
    "                                         value=1980)\n",
    "\n",
    "number_one_data = get_number_one(user_year_of_birth)\n",
    "\n",
    "if number_one_data == \"No Data\":\n",
    "    st.warning(\"No data available for this year. Why not try the year of birth for someone else you know?\")\n",
    "else:\n",
    "    st.success(\"Data Found!\")\n",
    "\n",
    "    st.write(f\"In {user_year_of_birth} the Christmas Number 1\",\n",
    "               f\"was {number_one_data['title']} by {number_one_data['primary_artist']}\")\n",
    "\n",
    "    st.metric(label=\"Weeks at Number 1\", value=number_one_data['weeks_at_number_one'])\n",
    "\n",
    "    st.video(number_one_data['video'])\n"
   ]
  }
 ],
 "metadata": {
  "kernelspec": {
   "display_name": "ml",
   "language": "python",
   "name": "python3"
  },
  "language_info": {
   "codemirror_mode": {
    "name": "ipython",
    "version": 3
   },
   "file_extension": ".py",
   "mimetype": "text/x-python",
   "name": "python",
   "nbconvert_exporter": "python",
   "pygments_lexer": "ipython3",
   "version": "3.11.4"
  }
 },
 "nbformat": 4,
 "nbformat_minor": 2
}
